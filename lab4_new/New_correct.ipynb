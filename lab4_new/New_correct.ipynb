{
 "cells": [
  {
   "cell_type": "markdown",
   "metadata": {
    "slideshow": {
     "slide_type": "slide"
    }
   },
   "source": [
    "# Latent Factor Models for Collaborative Filtering"
   ]
  },
  {
   "cell_type": "markdown",
   "metadata": {
    "slideshow": {
     "slide_type": "slide"
    }
   },
   "source": [
    "Load Pandas, we are going to need it for manipulating data"
   ]
  },
  {
   "cell_type": "code",
   "execution_count": 1,
   "metadata": {
    "slideshow": {
     "slide_type": "fragment"
    }
   },
   "outputs": [],
   "source": [
    "import pandas as pd\n",
    "import numpy as np\n",
    "from IPython.display import Image\n",
    "np.set_printoptions(precision = 3)"
   ]
  },
  {
   "cell_type": "code",
   "execution_count": 2,
   "metadata": {
    "slideshow": {
     "slide_type": "slide"
    }
   },
   "outputs": [],
   "source": [
    "data = pd.read_csv(\"jester-data-1.csv\",header=None)\n",
    "d = data.to_latex()"
   ]
  },
  {
   "cell_type": "code",
   "execution_count": 3,
   "metadata": {},
   "outputs": [
    {
     "name": "stdout",
     "output_type": "stream",
     "text": [
      "1979 100\n"
     ]
    }
   ],
   "source": [
    "crop_data=data.copy()\n",
    "crop_data=crop_data.values[0:1979,1:]\n",
    "print(crop_data.shape[0],crop_data.shape[1])"
   ]
  },
  {
   "cell_type": "markdown",
   "metadata": {
    "slideshow": {
     "slide_type": "slide"
    }
   },
   "source": [
    "Now load the data"
   ]
  },
  {
   "cell_type": "code",
   "execution_count": 4,
   "metadata": {
    "slideshow": {
     "slide_type": "fragment"
    }
   },
   "outputs": [
    {
     "name": "stdout",
     "output_type": "stream",
     "text": [
      "19790 98 1977\n"
     ]
    }
   ],
   "source": [
    "\n",
    "#text_file = open(\"Output.txt\", \"w\")\n",
    "#text_file.write(d)\n",
    "#text_file.close()\n",
    "\n",
    "crop_train=crop_data.copy()\n",
    "size=round(0.1*crop_data.shape[0]*crop_data.shape[1])\n",
    "#print(size)\n",
    "randx=np.random.randint(0,crop_data.shape[1]-1,size)\n",
    "randy=np.random.randint(0,crop_data.shape[0]-1,size)\n",
    "\n",
    "print(size, max(randx), max(randy))\n"
   ]
  },
  {
   "cell_type": "code",
   "execution_count": 5,
   "metadata": {},
   "outputs": [],
   "source": [
    "for i in range(size):\n",
    "    crop_train[randy[i],randx[i]] = 99\n",
    "\n"
   ]
  },
  {
   "cell_type": "code",
   "execution_count": null,
   "metadata": {},
   "outputs": [],
   "source": [
    "type(crop_train)"
   ]
  },
  {
   "cell_type": "code",
   "execution_count": null,
   "metadata": {
    "scrolled": true
   },
   "outputs": [],
   "source": [
    "np.isnan(12)\n"
   ]
  },
  {
   "cell_type": "code",
   "execution_count": 6,
   "metadata": {},
   "outputs": [
    {
     "name": "stdout",
     "output_type": "stream",
     "text": [
      "57824\n"
     ]
    }
   ],
   "source": [
    "#99 in data\n",
    "A=0\n",
    "for i in crop_data:\n",
    "    for j in i:\n",
    "        if (j==99):\n",
    "            A+=1\n",
    "print(A)"
   ]
  },
  {
   "cell_type": "code",
   "execution_count": 7,
   "metadata": {},
   "outputs": [
    {
     "name": "stdout",
     "output_type": "stream",
     "text": [
      "71308\n"
     ]
    }
   ],
   "source": [
    "#99 in data_test\n",
    "B=0\n",
    "for u in crop_train:\n",
    "    for v in u:\n",
    "        if (v==99):\n",
    "            B+=1\n",
    "print(B)\n",
    "#print(862910.0/2523283 )"
   ]
  },
  {
   "cell_type": "code",
   "execution_count": null,
   "metadata": {},
   "outputs": [],
   "source": [
    "def is99(number):\n",
    "    if number == 99:\n",
    "        return True\n",
    "    else:\n",
    "        return False"
   ]
  },
  {
   "cell_type": "code",
   "execution_count": null,
   "metadata": {},
   "outputs": [],
   "source": [
    "print(is99(99.0))"
   ]
  },
  {
   "cell_type": "code",
   "execution_count": 8,
   "metadata": {
    "slideshow": {
     "slide_type": "slide"
    }
   },
   "outputs": [],
   "source": [
    "n_features = 2\n",
    "\n",
    "user_ratings = crop_train\n",
    "user_ratings_test=crop_data\n",
    "latent_user_preferences = np.random.random((user_ratings.shape[0], n_features))\n",
    "latent_item_features = np.random.random((user_ratings.shape[1],n_features))"
   ]
  },
  {
   "cell_type": "code",
   "execution_count": 9,
   "metadata": {
    "slideshow": {
     "slide_type": "fragment"
    }
   },
   "outputs": [
    {
     "data": {
      "text/plain": [
       "array([[0.212, 0.82 ],\n",
       "       [0.489, 0.75 ],\n",
       "       [0.43 , 0.626],\n",
       "       [0.675, 0.265],\n",
       "       [0.25 , 0.573],\n",
       "       [0.104, 0.284],\n",
       "       [0.672, 0.542],\n",
       "       [0.637, 0.868],\n",
       "       [0.126, 0.91 ],\n",
       "       [0.385, 0.059],\n",
       "       [0.447, 0.675],\n",
       "       [0.626, 0.025],\n",
       "       [0.506, 0.814],\n",
       "       [0.061, 0.619],\n",
       "       [0.608, 0.687],\n",
       "       [0.338, 0.577],\n",
       "       [0.093, 0.33 ],\n",
       "       [0.513, 0.002],\n",
       "       [0.699, 0.935],\n",
       "       [0.999, 0.195],\n",
       "       [0.222, 0.152],\n",
       "       [0.835, 0.191],\n",
       "       [0.577, 0.964],\n",
       "       [0.569, 0.862],\n",
       "       [0.342, 0.505],\n",
       "       [0.074, 0.703],\n",
       "       [0.84 , 0.515],\n",
       "       [0.532, 0.224],\n",
       "       [0.211, 0.27 ],\n",
       "       [0.797, 0.655],\n",
       "       [0.76 , 0.248],\n",
       "       [0.351, 0.01 ],\n",
       "       [0.469, 0.595],\n",
       "       [0.999, 0.738],\n",
       "       [0.998, 0.738],\n",
       "       [0.661, 0.874],\n",
       "       [0.886, 0.138],\n",
       "       [0.766, 0.193],\n",
       "       [0.087, 0.666],\n",
       "       [0.067, 0.384],\n",
       "       [0.786, 0.019],\n",
       "       [0.164, 0.168],\n",
       "       [0.013, 0.941],\n",
       "       [0.621, 0.362],\n",
       "       [0.569, 0.989],\n",
       "       [0.008, 0.673],\n",
       "       [0.213, 0.949],\n",
       "       [0.762, 0.514],\n",
       "       [0.082, 0.412],\n",
       "       [0.556, 0.498],\n",
       "       [0.893, 0.281],\n",
       "       [0.843, 0.16 ],\n",
       "       [0.752, 0.694],\n",
       "       [0.346, 0.812],\n",
       "       [0.12 , 0.361],\n",
       "       [0.25 , 0.664],\n",
       "       [0.266, 0.829],\n",
       "       [0.058, 0.768],\n",
       "       [0.67 , 0.959],\n",
       "       [0.4  , 0.236],\n",
       "       [0.534, 0.833],\n",
       "       [0.108, 0.512],\n",
       "       [0.414, 0.264],\n",
       "       [0.848, 0.639],\n",
       "       [0.061, 0.108],\n",
       "       [0.36 , 0.559],\n",
       "       [0.027, 0.948],\n",
       "       [0.744, 0.084],\n",
       "       [0.203, 0.894],\n",
       "       [0.012, 0.167],\n",
       "       [0.22 , 0.33 ],\n",
       "       [0.99 , 0.897],\n",
       "       [0.595, 0.325],\n",
       "       [0.628, 0.062],\n",
       "       [0.347, 0.953],\n",
       "       [0.037, 0.85 ],\n",
       "       [0.01 , 0.08 ],\n",
       "       [0.52 , 0.6  ],\n",
       "       [0.37 , 0.463],\n",
       "       [0.117, 0.013],\n",
       "       [0.437, 0.802],\n",
       "       [0.307, 0.416],\n",
       "       [0.486, 0.397],\n",
       "       [0.03 , 0.69 ],\n",
       "       [0.124, 0.978],\n",
       "       [0.425, 0.23 ],\n",
       "       [0.753, 0.443],\n",
       "       [0.356, 0.954],\n",
       "       [0.623, 0.803],\n",
       "       [0.568, 0.539],\n",
       "       [0.52 , 0.683],\n",
       "       [0.901, 0.118],\n",
       "       [0.501, 0.452],\n",
       "       [0.337, 0.716],\n",
       "       [0.004, 0.336],\n",
       "       [0.934, 0.03 ],\n",
       "       [0.897, 0.591],\n",
       "       [0.609, 0.644],\n",
       "       [0.385, 0.622],\n",
       "       [0.722, 0.967]])"
      ]
     },
     "execution_count": 9,
     "metadata": {},
     "output_type": "execute_result"
    }
   ],
   "source": [
    "latent_item_features"
   ]
  },
  {
   "cell_type": "code",
   "execution_count": 10,
   "metadata": {
    "slideshow": {
     "slide_type": "fragment"
    }
   },
   "outputs": [
    {
     "data": {
      "text/plain": [
       "array([[0.948, 0.018],\n",
       "       [0.081, 0.438],\n",
       "       [0.917, 0.728],\n",
       "       ...,\n",
       "       [0.519, 0.86 ],\n",
       "       [0.687, 0.384],\n",
       "       [0.008, 0.681]])"
      ]
     },
     "execution_count": 10,
     "metadata": {},
     "output_type": "execute_result"
    }
   ],
   "source": [
    "latent_user_preferences"
   ]
  },
  {
   "cell_type": "code",
   "execution_count": 16,
   "metadata": {
    "slideshow": {
     "slide_type": "slide"
    }
   },
   "outputs": [],
   "source": [
    "def predict_rating(user_id,item_id):\n",
    "    \"\"\" Predict a rating given a user_id and an item_id.\n",
    "    \"\"\"\n",
    "    user_preference = latent_user_preferences[user_id]\n",
    "    item_preference = latent_item_features[item_id]\n",
    "    return user_preference.dot(item_preference)\n",
    "\n",
    "def train(user_id, item_id, rating,alpha = 0.0001):\n",
    "    \n",
    "    #print item_id\n",
    "    prediction_rating = predict_rating(user_id, item_id)\n",
    "    err =  ( prediction_rating- rating );\n",
    "    #print err\n",
    "    user_pref_values = latent_user_preferences[user_id][:]\n",
    "    latent_user_preferences[user_id] -= alpha * err * latent_item_features[item_id]\n",
    "    latent_item_features[item_id] -= alpha * err * user_pref_values\n",
    "    return err\n",
    "\n",
    "def traintest(user_id, item_id, rating):\n",
    "    prediction_rating = predict_rating(user_id, item_id)\n",
    "    err =  ( prediction_rating- rating );\n",
    "    return err\n",
    "\n",
    "def is99(number):\n",
    "    if number == 99:\n",
    "        return True\n",
    "    else:\n",
    "        return False\n",
    "\n",
    "def sgd(iterations = 300):\n",
    "    \"\"\" Iterate over all users and all items and train for \n",
    "        a certain number of iterations\n",
    "    \"\"\"\n",
    "    for iteration in range(0,iterations):\n",
    "        error = []\n",
    "        error_test=[]\n",
    "        for user_id in range(0,latent_user_preferences.shape[0]):\n",
    "            for item_id in range(0,latent_item_features.shape[0]):\n",
    "                rating = user_ratings[user_id][item_id]\n",
    "                rating_test=user_ratings_test[user_id][item_id]\n",
    "                if(not is99(rating)):\n",
    "                    err = train(user_id,item_id,rating)\n",
    "                    err_test=traintest(user_id,item_id,rating_test)\n",
    "                    error.append(err)\n",
    "                    error_test.append(err_test)\n",
    "        mse = (np.array(error) ** 2).mean()\n",
    "        mse_test = (np.array(error_test) ** 2).mean()\n",
    "        if(iteration%10 == 0 ):\n",
    "            print(iteration,mse,mse_test)\n",
    "                    \n",
    "                    \n",
    "    \n"
   ]
  },
  {
   "cell_type": "code",
   "execution_count": 17,
   "metadata": {
    "slideshow": {
     "slide_type": "fragment"
    }
   },
   "outputs": [
    {
     "name": "stdout",
     "output_type": "stream",
     "text": [
      "0 18.862145950535066 18.82496542727898\n",
      "10 18.14354679388944 18.102153721107893\n",
      "20 17.572841486956886 17.527363623338683\n",
      "30 17.257676520453558 17.20905694637217\n",
      "40 17.105235665957835 17.05460302898668\n",
      "50 17.02625343509197 16.974417886483852\n",
      "60 16.98085586517978 16.928267384978078\n",
      "70 16.95284891284349 16.899741659715225\n",
      "80 16.934783800804652 16.881286720291254\n",
      "90 16.922767582447253 16.86895982411717\n",
      "100 16.914588341667834 16.86052385564169\n",
      "110 16.908918956638836 16.854637399716793\n",
      "120 16.90493138952703 16.850463310857588\n",
      "130 16.90209309374547 16.847462692820965\n"
     ]
    },
    {
     "ename": "KeyboardInterrupt",
     "evalue": "",
     "output_type": "error",
     "traceback": [
      "\u001b[0;31m---------------------------------------------------------------------------\u001b[0m",
      "\u001b[0;31mKeyboardInterrupt\u001b[0m                         Traceback (most recent call last)",
      "\u001b[0;32m<ipython-input-17-21e3e9e41ae8>\u001b[0m in \u001b[0;36m<module>\u001b[0;34m()\u001b[0m\n\u001b[0;32m----> 1\u001b[0;31m \u001b[0msgd\u001b[0m\u001b[0;34m(\u001b[0m\u001b[0;34m)\u001b[0m\u001b[0;34m\u001b[0m\u001b[0m\n\u001b[0m",
      "\u001b[0;32m<ipython-input-16-11ff06a302f6>\u001b[0m in \u001b[0;36msgd\u001b[0;34m(iterations)\u001b[0m\n\u001b[1;32m     40\u001b[0m                 \u001b[0mrating_test\u001b[0m\u001b[0;34m=\u001b[0m\u001b[0muser_ratings_test\u001b[0m\u001b[0;34m[\u001b[0m\u001b[0muser_id\u001b[0m\u001b[0;34m]\u001b[0m\u001b[0;34m[\u001b[0m\u001b[0mitem_id\u001b[0m\u001b[0;34m]\u001b[0m\u001b[0;34m\u001b[0m\u001b[0m\n\u001b[1;32m     41\u001b[0m                 \u001b[0;32mif\u001b[0m\u001b[0;34m(\u001b[0m\u001b[0;32mnot\u001b[0m \u001b[0mis99\u001b[0m\u001b[0;34m(\u001b[0m\u001b[0mrating\u001b[0m\u001b[0;34m)\u001b[0m\u001b[0;34m)\u001b[0m\u001b[0;34m:\u001b[0m\u001b[0;34m\u001b[0m\u001b[0m\n\u001b[0;32m---> 42\u001b[0;31m                     \u001b[0merr\u001b[0m \u001b[0;34m=\u001b[0m \u001b[0mtrain\u001b[0m\u001b[0;34m(\u001b[0m\u001b[0muser_id\u001b[0m\u001b[0;34m,\u001b[0m\u001b[0mitem_id\u001b[0m\u001b[0;34m,\u001b[0m\u001b[0mrating\u001b[0m\u001b[0;34m)\u001b[0m\u001b[0;34m\u001b[0m\u001b[0m\n\u001b[0m\u001b[1;32m     43\u001b[0m                     \u001b[0merr_test\u001b[0m\u001b[0;34m=\u001b[0m\u001b[0mtraintest\u001b[0m\u001b[0;34m(\u001b[0m\u001b[0muser_id\u001b[0m\u001b[0;34m,\u001b[0m\u001b[0mitem_id\u001b[0m\u001b[0;34m,\u001b[0m\u001b[0mrating_test\u001b[0m\u001b[0;34m)\u001b[0m\u001b[0;34m\u001b[0m\u001b[0m\n\u001b[1;32m     44\u001b[0m                     \u001b[0merror\u001b[0m\u001b[0;34m.\u001b[0m\u001b[0mappend\u001b[0m\u001b[0;34m(\u001b[0m\u001b[0merr\u001b[0m\u001b[0;34m)\u001b[0m\u001b[0;34m\u001b[0m\u001b[0m\n",
      "\u001b[0;32m<ipython-input-16-11ff06a302f6>\u001b[0m in \u001b[0;36mtrain\u001b[0;34m(user_id, item_id, rating, alpha)\u001b[0m\n\u001b[1;32m     13\u001b[0m     \u001b[0;31m#print err\u001b[0m\u001b[0;34m\u001b[0m\u001b[0;34m\u001b[0m\u001b[0m\n\u001b[1;32m     14\u001b[0m     \u001b[0muser_pref_values\u001b[0m \u001b[0;34m=\u001b[0m \u001b[0mlatent_user_preferences\u001b[0m\u001b[0;34m[\u001b[0m\u001b[0muser_id\u001b[0m\u001b[0;34m]\u001b[0m\u001b[0;34m[\u001b[0m\u001b[0;34m:\u001b[0m\u001b[0;34m]\u001b[0m\u001b[0;34m\u001b[0m\u001b[0m\n\u001b[0;32m---> 15\u001b[0;31m     \u001b[0mlatent_user_preferences\u001b[0m\u001b[0;34m[\u001b[0m\u001b[0muser_id\u001b[0m\u001b[0;34m]\u001b[0m \u001b[0;34m-=\u001b[0m \u001b[0malpha\u001b[0m \u001b[0;34m*\u001b[0m \u001b[0merr\u001b[0m \u001b[0;34m*\u001b[0m \u001b[0mlatent_item_features\u001b[0m\u001b[0;34m[\u001b[0m\u001b[0mitem_id\u001b[0m\u001b[0;34m]\u001b[0m\u001b[0;34m\u001b[0m\u001b[0m\n\u001b[0m\u001b[1;32m     16\u001b[0m     \u001b[0mlatent_item_features\u001b[0m\u001b[0;34m[\u001b[0m\u001b[0mitem_id\u001b[0m\u001b[0;34m]\u001b[0m \u001b[0;34m-=\u001b[0m \u001b[0malpha\u001b[0m \u001b[0;34m*\u001b[0m \u001b[0merr\u001b[0m \u001b[0;34m*\u001b[0m \u001b[0muser_pref_values\u001b[0m\u001b[0;34m\u001b[0m\u001b[0m\n\u001b[1;32m     17\u001b[0m     \u001b[0;32mreturn\u001b[0m \u001b[0merr\u001b[0m\u001b[0;34m\u001b[0m\u001b[0m\n",
      "\u001b[0;31mKeyboardInterrupt\u001b[0m: "
     ]
    }
   ],
   "source": [
    "sgd()\n"
   ]
  },
  {
   "cell_type": "code",
   "execution_count": null,
   "metadata": {},
   "outputs": [],
   "source": []
  },
  {
   "cell_type": "code",
   "execution_count": null,
   "metadata": {
    "slideshow": {
     "slide_type": "slide"
    }
   },
   "outputs": [],
   "source": []
  },
  {
   "cell_type": "code",
   "execution_count": null,
   "metadata": {
    "slideshow": {
     "slide_type": "fragment"
    }
   },
   "outputs": [],
   "source": []
  },
  {
   "cell_type": "code",
   "execution_count": null,
   "metadata": {
    "slideshow": {
     "slide_type": "slide"
    }
   },
   "outputs": [],
   "source": []
  },
  {
   "cell_type": "code",
   "execution_count": null,
   "metadata": {
    "slideshow": {
     "slide_type": "fragment"
    }
   },
   "outputs": [],
   "source": []
  },
  {
   "cell_type": "code",
   "execution_count": null,
   "metadata": {},
   "outputs": [],
   "source": []
  },
  {
   "cell_type": "code",
   "execution_count": null,
   "metadata": {},
   "outputs": [],
   "source": []
  },
  {
   "cell_type": "code",
   "execution_count": null,
   "metadata": {},
   "outputs": [],
   "source": []
  }
 ],
 "metadata": {
  "kernelspec": {
   "display_name": "Python 3",
   "language": "python",
   "name": "python3"
  },
  "language_info": {
   "codemirror_mode": {
    "name": "ipython",
    "version": 3
   },
   "file_extension": ".py",
   "mimetype": "text/x-python",
   "name": "python",
   "nbconvert_exporter": "python",
   "pygments_lexer": "ipython3",
   "version": "3.5.2"
  }
 },
 "nbformat": 4,
 "nbformat_minor": 1
}
