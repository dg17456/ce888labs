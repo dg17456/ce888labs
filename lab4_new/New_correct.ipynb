{
 "cells": [
  {
   "cell_type": "markdown",
   "metadata": {
    "slideshow": {
     "slide_type": "slide"
    }
   },
   "source": [
    "# Latent Factor Models for Collaborative Filtering"
   ]
  },
  {
   "cell_type": "markdown",
   "metadata": {
    "slideshow": {
     "slide_type": "slide"
    }
   },
   "source": [
    "Load Pandas, we are going to need it for manipulating data"
   ]
  },
  {
   "cell_type": "code",
   "execution_count": 1,
   "metadata": {
    "slideshow": {
     "slide_type": "fragment"
    }
   },
   "outputs": [],
   "source": [
    "import pandas as pd\n",
    "import numpy as np\n",
    "from IPython.display import Image\n",
    "np.set_printoptions(precision = 3)"
   ]
  },
  {
   "cell_type": "code",
   "execution_count": 2,
   "metadata": {
    "slideshow": {
     "slide_type": "slide"
    }
   },
   "outputs": [],
   "source": [
    "data = pd.read_csv(\"jester-data-1.csv\",header=None)\n",
    "d = data.to_latex()"
   ]
  },
  {
   "cell_type": "markdown",
   "metadata": {
    "slideshow": {
     "slide_type": "slide"
    }
   },
   "source": [
    "Now load the data"
   ]
  },
  {
   "cell_type": "code",
   "execution_count": 3,
   "metadata": {
    "slideshow": {
     "slide_type": "fragment"
    }
   },
   "outputs": [],
   "source": [
    "\n",
    "#text_file = open(\"Output.txt\", \"w\")\n",
    "#text_file.write(d)\n",
    "#text_file.close()\n",
    "\n",
    "data_test=data.copy()\n",
    "size=round(0.1*101*24983)\n",
    "#print(size)\n",
    "randx=np.random.randint(0,100,size)\n",
    "randy=np.random.randint(0,24983,size)\n",
    "\n",
    "\n"
   ]
  },
  {
   "cell_type": "code",
   "execution_count": 4,
   "metadata": {},
   "outputs": [],
   "source": [
    "#print(type(data_test2))\n",
    "for i in range(size):\n",
    "    #print(randy[i],randx[i], values[randy[i],randx[i]])\n",
    "    data_test.values[randy[i],randx[i]] = 99\n",
    "     #data_test2.iloc[randy[i],randx[i]]=99\n",
    "\n",
    "\n",
    "\n",
    "    \n",
    "\n",
    "# data_test.to_csv(\"jester-data-99.csv\",header=None)\n",
    "# type(data_test)"
   ]
  },
  {
   "cell_type": "code",
   "execution_count": null,
   "metadata": {},
   "outputs": [],
   "source": []
  },
  {
   "cell_type": "code",
   "execution_count": 38,
   "metadata": {
    "scrolled": true
   },
   "outputs": [
    {
     "data": {
      "text/plain": [
       "False"
      ]
     },
     "execution_count": 38,
     "metadata": {},
     "output_type": "execute_result"
    }
   ],
   "source": [
    "np.isnan(12)\n"
   ]
  },
  {
   "cell_type": "code",
   "execution_count": 5,
   "metadata": {},
   "outputs": [
    {
     "name": "stdout",
     "output_type": "stream",
     "text": [
      "687926\n"
     ]
    }
   ],
   "source": [
    "#99 in data\n",
    "A=0\n",
    "for i in data.values:\n",
    "    for j in i:\n",
    "        if (j==99):\n",
    "            A+=1\n",
    "print(A)"
   ]
  },
  {
   "cell_type": "code",
   "execution_count": 7,
   "metadata": {},
   "outputs": [
    {
     "name": "stdout",
     "output_type": "stream",
     "text": [
      "863407\n"
     ]
    }
   ],
   "source": [
    "#99 in data_test\n",
    "B=0\n",
    "for u in data_test.values:\n",
    "    for v in u:\n",
    "        if (v==99):\n",
    "            B+=1\n",
    "print(B)\n",
    "#print(862910.0/2523283 )"
   ]
  },
  {
   "cell_type": "code",
   "execution_count": 44,
   "metadata": {},
   "outputs": [],
   "source": [
    "def is99(number):\n",
    "    if number == 99:\n",
    "        return True\n",
    "    else:\n",
    "        return False"
   ]
  },
  {
   "cell_type": "code",
   "execution_count": 45,
   "metadata": {},
   "outputs": [
    {
     "name": "stdout",
     "output_type": "stream",
     "text": [
      "False\n"
     ]
    }
   ],
   "source": [
    "print(is99(39))"
   ]
  },
  {
   "cell_type": "code",
   "execution_count": 10,
   "metadata": {
    "slideshow": {
     "slide_type": "slide"
    }
   },
   "outputs": [],
   "source": [
    "n_features = 2\n",
    "\n",
    "user_ratings = data_test.values\n",
    "latent_user_preferences = np.random.random((user_ratings.shape[0], n_features))\n",
    "latent_item_features = np.random.random((user_ratings.shape[1],n_features))"
   ]
  },
  {
   "cell_type": "code",
   "execution_count": 11,
   "metadata": {
    "slideshow": {
     "slide_type": "fragment"
    }
   },
   "outputs": [
    {
     "data": {
      "text/plain": [
       "array([[0.276, 0.518],\n",
       "       [0.397, 0.887],\n",
       "       [0.524, 0.594],\n",
       "       [0.535, 0.01 ],\n",
       "       [0.021, 0.752],\n",
       "       [0.488, 0.312],\n",
       "       [0.867, 0.712],\n",
       "       [0.779, 0.84 ],\n",
       "       [0.789, 0.686],\n",
       "       [0.841, 0.662],\n",
       "       [0.347, 0.762],\n",
       "       [0.441, 0.828],\n",
       "       [0.868, 0.335],\n",
       "       [0.813, 0.259],\n",
       "       [0.65 , 0.542],\n",
       "       [0.807, 0.969],\n",
       "       [0.049, 0.771],\n",
       "       [0.544, 0.614],\n",
       "       [0.824, 0.694],\n",
       "       [0.135, 0.123],\n",
       "       [0.805, 0.274],\n",
       "       [0.378, 0.895],\n",
       "       [0.956, 0.606],\n",
       "       [0.506, 0.491],\n",
       "       [0.396, 0.614],\n",
       "       [0.544, 0.425],\n",
       "       [0.325, 0.809],\n",
       "       [0.56 , 0.004],\n",
       "       [0.862, 0.612],\n",
       "       [0.407, 0.54 ],\n",
       "       [0.539, 0.469],\n",
       "       [0.718, 0.301],\n",
       "       [0.522, 0.522],\n",
       "       [0.058, 0.291],\n",
       "       [0.005, 0.545],\n",
       "       [0.459, 0.806],\n",
       "       [0.024, 0.492],\n",
       "       [0.793, 0.878],\n",
       "       [0.402, 0.475],\n",
       "       [0.592, 0.483],\n",
       "       [0.965, 0.134],\n",
       "       [0.696, 0.931],\n",
       "       [0.688, 0.325],\n",
       "       [0.8  , 0.569],\n",
       "       [0.065, 0.544],\n",
       "       [0.852, 0.209],\n",
       "       [0.213, 0.752],\n",
       "       [0.566, 0.114],\n",
       "       [0.489, 0.658],\n",
       "       [0.947, 0.737],\n",
       "       [0.871, 0.02 ],\n",
       "       [0.206, 0.129],\n",
       "       [0.364, 0.394],\n",
       "       [0.182, 0.314],\n",
       "       [0.545, 0.713],\n",
       "       [0.277, 0.317],\n",
       "       [0.48 , 0.094],\n",
       "       [0.682, 0.827],\n",
       "       [0.477, 0.031],\n",
       "       [0.657, 0.876],\n",
       "       [0.844, 0.867],\n",
       "       [0.55 , 0.38 ],\n",
       "       [0.021, 0.563],\n",
       "       [0.712, 0.204],\n",
       "       [0.059, 0.934],\n",
       "       [0.909, 0.366],\n",
       "       [0.76 , 0.949],\n",
       "       [0.481, 0.257],\n",
       "       [0.793, 0.149],\n",
       "       [0.845, 0.724],\n",
       "       [0.121, 0.894],\n",
       "       [0.407, 0.474],\n",
       "       [0.965, 0.282],\n",
       "       [0.801, 0.451],\n",
       "       [0.557, 0.349],\n",
       "       [0.507, 0.196],\n",
       "       [0.977, 0.249],\n",
       "       [0.154, 0.552],\n",
       "       [0.795, 0.065],\n",
       "       [0.098, 0.869],\n",
       "       [0.614, 0.048],\n",
       "       [0.666, 0.27 ],\n",
       "       [0.421, 0.273],\n",
       "       [0.153, 0.993],\n",
       "       [0.237, 0.914],\n",
       "       [0.633, 0.683],\n",
       "       [0.608, 0.308],\n",
       "       [0.423, 0.094],\n",
       "       [0.099, 0.762],\n",
       "       [0.167, 0.893],\n",
       "       [0.149, 0.269],\n",
       "       [0.82 , 0.096],\n",
       "       [0.752, 0.463],\n",
       "       [0.143, 0.448],\n",
       "       [0.82 , 0.436],\n",
       "       [0.355, 0.298],\n",
       "       [0.644, 0.154],\n",
       "       [0.85 , 0.726],\n",
       "       [0.448, 0.459],\n",
       "       [0.851, 0.847],\n",
       "       [0.717, 0.725]])"
      ]
     },
     "execution_count": 11,
     "metadata": {},
     "output_type": "execute_result"
    }
   ],
   "source": [
    "latent_item_features"
   ]
  },
  {
   "cell_type": "code",
   "execution_count": 12,
   "metadata": {
    "slideshow": {
     "slide_type": "fragment"
    }
   },
   "outputs": [
    {
     "data": {
      "text/plain": [
       "array([[0.568, 0.839],\n",
       "       [0.337, 0.227],\n",
       "       [0.444, 0.975],\n",
       "       ...,\n",
       "       [0.085, 0.789],\n",
       "       [0.37 , 0.416],\n",
       "       [0.214, 0.586]])"
      ]
     },
     "execution_count": 12,
     "metadata": {},
     "output_type": "execute_result"
    }
   ],
   "source": [
    "latent_user_preferences"
   ]
  },
  {
   "cell_type": "code",
   "execution_count": null,
   "metadata": {
    "slideshow": {
     "slide_type": "slide"
    }
   },
   "outputs": [],
   "source": [
    "def predict_rating(user_id,item_id):\n",
    "    \"\"\" Predict a rating given a user_id and an item_id.\n",
    "    \"\"\"\n",
    "    user_preference = latent_user_preferences[user_id]\n",
    "    item_preference = latent_item_features[item_id]\n",
    "    return user_preference.dot(item_preference)\n",
    "\n",
    "def train(user_id, item_id, rating,alpha = 0.0001):\n",
    "    \n",
    "    #print item_id\n",
    "    prediction_rating = predict_rating(user_id, item_id)\n",
    "    err =  ( prediction_rating- rating );\n",
    "    #print err\n",
    "    user_pref_values = latent_user_preferences[user_id][:]\n",
    "    latent_user_preferences[user_id] -= alpha * err * latent_item_features[item_id]\n",
    "    latent_item_features[item_id] -= alpha * err * user_pref_values\n",
    "    return err\n",
    "    \n",
    "def is99(number):\n",
    "    if number == 99:\n",
    "        return True\n",
    "    else:\n",
    "        return False\n",
    "\n",
    "def sgd(iterations = 300000):\n",
    "    \"\"\" Iterate over all users and all items and train for \n",
    "        a certain number of iterations\n",
    "    \"\"\"\n",
    "    for iteration in range(0,iterations):\n",
    "        error = []\n",
    "        for user_id in range(0,latent_user_preferences.shape[0]):\n",
    "            for item_id in range(0,latent_item_features.shape[0]):\n",
    "                rating = user_ratings[user_id][item_id]\n",
    "                if(not np.is99(rating)):\n",
    "                    err = train(user_id,item_id,rating)\n",
    "                    error.append(err)\n",
    "        mse = (np.array(error) ** 2).mean()   \n",
    "        if(iteration%10000 == 0 ):\n",
    "            print mse\n",
    "                    \n",
    "                    \n",
    "    \n"
   ]
  },
  {
   "cell_type": "code",
   "execution_count": null,
   "metadata": {
    "slideshow": {
     "slide_type": "fragment"
    }
   },
   "outputs": [],
   "source": [
    "sgd()\n"
   ]
  },
  {
   "cell_type": "code",
   "execution_count": null,
   "metadata": {
    "slideshow": {
     "slide_type": "slide"
    }
   },
   "outputs": [],
   "source": [
    "predictions = latent_user_preferences.dot(latent_item_features.T)\n",
    "predictions"
   ]
  },
  {
   "cell_type": "code",
   "execution_count": null,
   "metadata": {
    "slideshow": {
     "slide_type": "fragment"
    }
   },
   "outputs": [],
   "source": []
  },
  {
   "cell_type": "code",
   "execution_count": null,
   "metadata": {
    "slideshow": {
     "slide_type": "slide"
    }
   },
   "outputs": [],
   "source": [
    "values = [zip(user_ratings[i], predictions[i]) for i in range(0,predictions.shape[0])]\n",
    "comparison_data = pd.DataFrame(values)\n",
    "comparison_data.columns = data.columns\n",
    "comparison_data.applymap(lambda (x,y): \"(%2.3f|%2.3f)\"%(x,y))"
   ]
  },
  {
   "cell_type": "code",
   "execution_count": null,
   "metadata": {
    "slideshow": {
     "slide_type": "fragment"
    }
   },
   "outputs": [],
   "source": [
    "comparison_data"
   ]
  },
  {
   "cell_type": "code",
   "execution_count": null,
   "metadata": {},
   "outputs": [],
   "source": [
    "d = comparison_data.to_latex()\n",
    "text_file = open(\"comparison.txt\", \"w\")\n",
    "text_file.write(d)\n",
    "text_file.close()"
   ]
  },
  {
   "cell_type": "code",
   "execution_count": null,
   "metadata": {},
   "outputs": [],
   "source": []
  },
  {
   "cell_type": "code",
   "execution_count": null,
   "metadata": {},
   "outputs": [],
   "source": []
  }
 ],
 "metadata": {
  "kernelspec": {
   "display_name": "Python 3",
   "language": "python",
   "name": "python3"
  },
  "language_info": {
   "codemirror_mode": {
    "name": "ipython",
    "version": 3
   },
   "file_extension": ".py",
   "mimetype": "text/x-python",
   "name": "python",
   "nbconvert_exporter": "python",
   "pygments_lexer": "ipython3",
   "version": "3.5.2"
  }
 },
 "nbformat": 4,
 "nbformat_minor": 1
}
